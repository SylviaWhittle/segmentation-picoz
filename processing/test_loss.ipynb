{
 "cells": [
  {
   "cell_type": "code",
   "execution_count": 13,
   "id": "03f86bc8",
   "metadata": {},
   "outputs": [
    {
     "data": {
      "text/plain": [
       "<LossFunctionWrapper(<function categorical_crossentropy at 0x17d54fec0>, kwargs={'from_logits': False, 'label_smoothing': 0.0, 'axis': -1})>"
      ]
     },
     "execution_count": 13,
     "metadata": {},
     "output_type": "execute_result"
    }
   ],
   "source": [
    "import tensorflow as tf\n",
    "import keras\n",
    "import numpy as np\n",
    "\n",
    "tf.keras.losses.CategoricalCrossentropy(\n",
    "    from_logits=False, label_smoothing=0.0, axis=-1, reduction=\"sum_over_batch_size\", name=\"categorical_crossentropy\"\n",
    ")"
   ]
  },
  {
   "cell_type": "code",
   "execution_count": 20,
   "id": "a1fba6a0",
   "metadata": {},
   "outputs": [
    {
     "name": "stdout",
     "output_type": "stream",
     "text": [
      "CCE: nan\n",
      "Dice: 1.0\n"
     ]
    }
   ],
   "source": [
    "y_true = np.stack(\n",
    "    [\n",
    "        np.array(\n",
    "            [\n",
    "                [0, 0, 0],\n",
    "                [0, 0, 0],\n",
    "                [0, 0, 0],\n",
    "            ]\n",
    "        ),\n",
    "        np.array(\n",
    "            [\n",
    "                [0, 0, 0],\n",
    "                [0, 0, 0],\n",
    "                [0, 0, 0],\n",
    "            ]\n",
    "        ),\n",
    "    ],\n",
    "    axis=-1,\n",
    ")\n",
    "\n",
    "\n",
    "y_pred = np.stack(\n",
    "    [\n",
    "        np.array([[0, 0, 0], [0, 0, 0], [0, 0, 0]]),\n",
    "        np.array([[0, 0, 0], [0, 0, 0], [0, 0, 0]]),\n",
    "    ],\n",
    "    axis=-1,\n",
    ")\n",
    "# Using 'auto'/'sum_over_batch_size' reduction type.\n",
    "cce = keras.losses.CategoricalCrossentropy()\n",
    "dice = tf.keras.losses.Dice(reduction=\"sum_over_batch_size\", name=\"dice\")\n",
    "print(f\"CCE: {cce(y_true, y_pred)}\")\n",
    "print(f\"Dice: {dice(y_true, y_pred)}\")"
   ]
  }
 ],
 "metadata": {
  "kernelspec": {
   "display_name": "unet",
   "language": "python",
   "name": "python3"
  },
  "language_info": {
   "codemirror_mode": {
    "name": "ipython",
    "version": 3
   },
   "file_extension": ".py",
   "mimetype": "text/x-python",
   "name": "python",
   "nbconvert_exporter": "python",
   "pygments_lexer": "ipython3",
   "version": "3.11.8"
  }
 },
 "nbformat": 4,
 "nbformat_minor": 5
}
