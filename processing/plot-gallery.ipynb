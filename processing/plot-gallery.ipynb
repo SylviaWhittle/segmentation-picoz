{
 "cells": [
  {
   "cell_type": "code",
   "execution_count": null,
   "id": "70096d21",
   "metadata": {},
   "outputs": [],
   "source": [
    "from pathlib import Path\n",
    "import numpy as np\n",
    "import matplotlib.pyplot as plt\n",
    "import numpy.typing as npt\n",
    "import re\n"
   ]
  },
  {
   "cell_type": "code",
   "execution_count": null,
   "id": "c04de305",
   "metadata": {},
   "outputs": [],
   "source": [
    "def plot_gallery(images: list[npt.NDArray], masks: list[npt.NDArray], filenames: list[str], pair_cols:int=3):\n",
    "    assert len(images) == len(masks), \"Number of images and masks must be the same\"\n",
    "    cols = pair_cols * 2\n",
    "    rows = len(images) // pair_cols + 1\n",
    "    # plot each image with its mask side by side in a grid\n",
    "    fig, ax = plt.subplots(rows, cols, figsize=(cols * 5, rows * 5))\n",
    "    for i in range(len(images)):\n",
    "        image = images[i]\n",
    "        mask = masks[i]\n",
    "        filename = filenames[i]\n",
    "        ax[i // pair_cols, (i % pair_cols) * 2].imshow(image)\n",
    "        ax[i // pair_cols, (i % pair_cols) * 2].set_title(filename)\n",
    "        ax[i // pair_cols, (i % pair_cols) * 2].axis(\"off\")\n",
    "        ax[i // pair_cols, (i % pair_cols) * 2 + 1].imshow(mask)\n",
    "        ax[i // pair_cols, (i % pair_cols) * 2 + 1].set_title(f\"{filename} mask\")\n",
    "        ax[i // pair_cols, (i % pair_cols) * 2 + 1].axis(\"off\")\n",
    "    plt.tight_layout()\n",
    "    plt.show()\n",
    "\n",
    "\n"
   ]
  },
  {
   "cell_type": "code",
   "execution_count": null,
   "id": "f50da43e",
   "metadata": {},
   "outputs": [],
   "source": [
    "base_dir = Path(\"../\")\n",
    "all_data_dir = base_dir / \"data\" / \"all_data\"\n",
    "assert all_data_dir.exists(), f\"Directory {all_data_dir} does not exist\"\n",
    "\n",
    "images = all_data_dir.glob(\"image_*.png\")\n",
    "masks = all_data_dir.glob(\"mask_*.png\")\n",
    "\n",
    "# Sort the lists by the numbe in the filename\n",
    "images = sorted(images, key=lambda x: int(re.search(r\"\\d+\", x.name).group()))\n",
    "masks = sorted(masks, key=lambda x: int(re.search(r\"\\d+\", x.name).group()))\n",
    "filenames = [img.name for img in images]\n",
    "\n",
    "print(f\"Found {len(images)} images and {len(masks)} masks\")\n",
    "print(f\"Images: {images}\")\n",
    "print(f\"Masks: {masks}\")"
   ]
  },
  {
   "cell_type": "code",
   "execution_count": null,
   "id": "f9c3e709",
   "metadata": {},
   "outputs": [],
   "source": [
    "# plot gallery of images and masks\n",
    "images_list = [plt.imread(image) for image in images]\n",
    "masks_list = [plt.imread(mask) for mask in masks]\n",
    "plot_gallery(images_list, masks_list, filenames, pair_cols=3)"
   ]
  }
 ],
 "metadata": {
  "kernelspec": {
   "display_name": "unet",
   "language": "python",
   "name": "python3"
  },
  "language_info": {
   "codemirror_mode": {
    "name": "ipython",
    "version": 3
   },
   "file_extension": ".py",
   "mimetype": "text/x-python",
   "name": "python",
   "nbconvert_exporter": "python",
   "pygments_lexer": "ipython3",
   "version": "3.11.8"
  }
 },
 "nbformat": 4,
 "nbformat_minor": 5
}
