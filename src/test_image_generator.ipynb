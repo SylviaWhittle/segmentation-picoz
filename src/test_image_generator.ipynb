{
 "cells": [
  {
   "cell_type": "code",
   "execution_count": null,
   "id": "2f8eed0b",
   "metadata": {},
   "outputs": [],
   "source": [
    "from pathlib import Path\n",
    "import re\n",
    "\n",
    "import numpy as np\n",
    "import matplotlib.pyplot as plt\n",
    "\n",
    "import sys\n",
    "\n",
    "from train import image_data_generator"
   ]
  },
  {
   "cell_type": "code",
   "execution_count": null,
   "id": "bd6dd76a",
   "metadata": {},
   "outputs": [],
   "source": [
    "model_image_size = (256, 256)\n",
    "batch_size = 3\n",
    "\n",
    "generator = image_data_generator(\n",
    "    data_dir=Path(\"../data/all_data\"),\n",
    "    image_indexes=[0, 1, 2, 3, 4, 5, 6, 7],\n",
    "    batch_size=batch_size,\n",
    "    model_image_size=model_image_size,\n",
    "    image_channels=1,\n",
    "    output_classes=1,\n",
    "    augment_zoom_percent=0,\n",
    "    augment_flip_rotate=False,\n",
    "    norm_lower_bound=-1,\n",
    "    norm_upper_bound=4\n",
    ")\n",
    "\n",
    "# Get the first batch of images\n",
    "images, labels = next(generator)\n",
    "\n",
    "print(f\"images shape: {images.shape}\")\n",
    "print(f\"labels shape: {labels.shape}\")\n",
    "\n",
    "for batch_image_index in range(images.shape[0]):\n",
    "    # Get the image and label for the current batch\n",
    "    image = images[batch_image_index, :, :]\n",
    "    label = labels[batch_image_index, :, :]\n",
    "\n",
    "    fig, ax = plt.subplots(1, 2, figsize=(10, 5))\n",
    "    ax[0].imshow(image)\n",
    "    ax[0].set_title(\"Image\")\n",
    "    ax[1].imshow(label)\n",
    "    ax[1].set_title(\"Label\")\n",
    "    plt.show()\n",
    "\n"
   ]
  }
 ],
 "metadata": {
  "kernelspec": {
   "display_name": "dvc",
   "language": "python",
   "name": "python3"
  },
  "language_info": {
   "codemirror_mode": {
    "name": "ipython",
    "version": 3
   },
   "file_extension": ".py",
   "mimetype": "text/x-python",
   "name": "python",
   "nbconvert_exporter": "python",
   "pygments_lexer": "ipython3",
   "version": "3.12.5"
  }
 },
 "nbformat": 4,
 "nbformat_minor": 5
}
