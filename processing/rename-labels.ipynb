{
 "cells": [
  {
   "cell_type": "code",
   "execution_count": null,
   "metadata": {},
   "outputs": [],
   "source": [
    "from pathlib import Path\n",
    "import numpy as np\n",
    "import matplotlib.pyplot as plt\n",
    "import re\n",
    "import shutil"
   ]
  },
  {
   "cell_type": "markdown",
   "metadata": {},
   "source": [
    "### masks"
   ]
  },
  {
   "cell_type": "code",
   "execution_count": null,
   "metadata": {},
   "outputs": [],
   "source": [
    "base_dir = Path(\"../data-preprocessing/\")\n",
    "assert base_dir.exists()\n",
    "dir_labelled_raw = base_dir / \"masks-raw\"\n",
    "assert dir_labelled_raw.exists()\n",
    "dir_labelled_renamed = base_dir / \"masks-renamed\"\n",
    "dir_labelled_renamed.mkdir(exist_ok=True)\n",
    "\n",
    "file_ext = \".npy\"\n",
    "files = list(dir_labelled_raw.glob(f\"*{file_ext}\"))\n",
    "print(f\"Found {len(files)} files\")\n",
    "\n",
    "# sort files by the first number in the filename\n",
    "files.sort(key=lambda x: int(re.search(r\"task-(\\d+)\", x.name).group(1)))\n",
    "# print sorted filenames\n",
    "print(\"Sorted files:\")\n",
    "for file in files:\n",
    "    print(file.name)\n",
    "\n",
    "index = 0\n",
    "for file in files:\n",
    "    # rename the file to task-<index>.npy\n",
    "    new_name = f\"mask_{index}\"\n",
    "    new_name_with_ext = f\"{new_name}{file_ext}\"\n",
    "    new_file = dir_labelled_renamed / new_name_with_ext\n",
    "    print(f\"Renaming {file.name} to {new_name}\")\n",
    "    shutil.copy(file, new_file)\n",
    "\n",
    "    # save as png too\n",
    "    # load the numpy array\n",
    "    arr = np.load(file)\n",
    "    # convert to uint8\n",
    "    arr = arr.astype(np.uint8)\n",
    "    # save as png\n",
    "    png_file = dir_labelled_renamed / f\"{new_name}.png\"\n",
    "    plt.imsave(png_file, arr, cmap=\"viridis\")\n",
    "    index += 1"
   ]
  },
  {
   "cell_type": "markdown",
   "metadata": {},
   "source": [
    "### images"
   ]
  },
  {
   "cell_type": "code",
   "execution_count": null,
   "metadata": {},
   "outputs": [],
   "source": [
    "# do the same but for images\n",
    "base_dir = Path(\"../data-preprocessing/\")\n",
    "dir_images = base_dir / \"images\"\n",
    "assert dir_images.exists()\n",
    "dir_images_renamed = base_dir / \"images-renamed\"\n",
    "dir_images_renamed.mkdir(exist_ok=True)\n",
    "file_ext = \".npy\"\n",
    "files = list(dir_images.glob(f\"*{file_ext}\"))\n",
    "print(f\"Found {len(files)} files\")\n",
    "# sort files by the first number in the filename\n",
    "files.sort(key=lambda x: int(re.search(r\"image_(\\d+)\", x.name).group(1)))\n",
    "# print sorted filenames\n",
    "print(\"Sorted files:\")\n",
    "for file in files:\n",
    "    print(file.name)\n",
    "index = 0\n",
    "for file in files:\n",
    "    # rename the file to task-<index>.npy\n",
    "    new_name = f\"image_{index}\"\n",
    "    new_name_with_ext = f\"{new_name}{file_ext}\"\n",
    "    new_file = dir_images_renamed / new_name_with_ext\n",
    "    print(f\"Renaming {file.name} to {new_name}\")\n",
    "    shutil.copy(file, new_file)\n",
    "\n",
    "    # save as png too\n",
    "    # load the numpy array\n",
    "    arr = np.load(file)\n",
    "    # save as png\n",
    "    png_file = dir_images_renamed / f\"{new_name}.png\"\n",
    "    plt.imsave(png_file, arr, cmap=\"viridis\")\n",
    "    index += 1\n"
   ]
  }
 ],
 "metadata": {
  "kernelspec": {
   "display_name": "unet",
   "language": "python",
   "name": "python3"
  },
  "language_info": {
   "codemirror_mode": {
    "name": "ipython",
    "version": 3
   },
   "file_extension": ".py",
   "mimetype": "text/x-python",
   "name": "python",
   "nbconvert_exporter": "python",
   "pygments_lexer": "ipython3",
   "version": "3.11.8"
  }
 },
 "nbformat": 4,
 "nbformat_minor": 2
}
