{
 "cells": [
  {
   "cell_type": "code",
   "execution_count": null,
   "id": "1f3dbe99",
   "metadata": {},
   "outputs": [],
   "source": [
    "from pathlib import Path\n",
    "import sys\n",
    "\n",
    "import numpy as np\n",
    "import matplotlib.pyplot as plt\n",
    "import tensorflow as tf\n",
    "\n",
    "from topostats.io import LoadScans\n",
    "\n",
    "src_dir = Path(\"../src\")\n",
    "sys.path.append(str(src_dir))\n",
    "from unet import dice_loss, iou_loss"
   ]
  },
  {
   "cell_type": "code",
   "execution_count": null,
   "id": "6807c4a0",
   "metadata": {},
   "outputs": [],
   "source": [
    "model_path = Path(\"/Users/sylvi/topo_data/picoz/20250704-picoz-vheight-augment.keras\")\n",
    "custom_objects = {\"dice_loss\": dice_loss, \"iou_loss\": iou_loss}\n",
    "model = tf.keras.models.load_model(model_path, custom_objects=custom_objects)"
   ]
  },
  {
   "cell_type": "code",
   "execution_count": null,
   "id": "03cbe099",
   "metadata": {},
   "outputs": [],
   "source": [
    "# image_file = Path(\"/Users/sylvi/topo_data/picoz/output_abs_thresh/20250528_RA_dose_0GY_picoz/processed/20250528_picoz_0RA_tip_0.0_00025.topostats\")\n",
    "image_file = Path(\"/Users/sylvi/topo_data/picoz/output_unet/20250528_RA_dose_0GY_picoz/processed/20250528_picoz_0RA_tip_0.0_00014.topostats\")\n",
    "assert image_file.exists(), f\"Image file {image_file} does not exist.\"\n",
    "\n",
    "loadscans = LoadScans([image_file], channel=\"dummy\")\n",
    "loadscans.get_data()\n",
    "img_dict = loadscans.img_dict\n",
    "print(img_dict.keys())\n",
    "image_data = img_dict[list(img_dict.keys())[0]]\n",
    "print(image_data.keys())\n",
    "image = image_data[\"image\"]\n",
    "plt.imshow(image)\n",
    "plt.show()\n",
    "\n",
    "image = np.expand_dims(image, axis=0)  # Add batch dimension\n",
    "image = np.expand_dims(image, axis=-1)  # Add channel dimension\n",
    "print(image.shape)\n",
    "predicted_mask = model.predict(image)\n",
    "\n",
    "plt.imshow(predicted_mask[0, :, :, 0], cmap='gray')\n",
    "plt.title(\"Predicted Mask\")\n",
    "plt.show()\n",
    "\n",
    "predicted_mask_binary = (predicted_mask[0, :, :, 0] > 0.5).astype(np.uint8)\n",
    "plt.imshow(predicted_mask_binary, cmap='gray')\n",
    "plt.title(\"Predicted Mask (Binary)\")\n",
    "plt.show()"
   ]
  }
 ],
 "metadata": {
  "kernelspec": {
   "display_name": "topostats",
   "language": "python",
   "name": "python3"
  },
  "language_info": {
   "codemirror_mode": {
    "name": "ipython",
    "version": 3
   },
   "file_extension": ".py",
   "mimetype": "text/x-python",
   "name": "python",
   "nbconvert_exporter": "python",
   "pygments_lexer": "ipython3",
   "version": "3.11.9"
  }
 },
 "nbformat": 4,
 "nbformat_minor": 5
}
