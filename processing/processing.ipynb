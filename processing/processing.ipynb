{
 "cells": [
  {
   "cell_type": "code",
   "execution_count": null,
   "metadata": {},
   "outputs": [],
   "source": [
    "from pathlib import Path\n",
    "\n",
    "from IPython.display import clear_output\n",
    "import numpy as np\n",
    "import matplotlib.pyplot as plt\n",
    "\n",
    "from topostats.io import LoadScans\n",
    "from topostats.filters import Filters\n",
    "from topostats.plotting import Colormap\n",
    "\n",
    "colormap = Colormap()\n",
    "cmap = colormap.get_cmap()\n",
    "\n",
    "from cropping import interactive_crop_files"
   ]
  },
  {
   "cell_type": "code",
   "execution_count": null,
   "metadata": {},
   "outputs": [],
   "source": [
    "base_dir = Path(\"/Users/sylvi/topo_data/tobi-dna-damage/\")\n",
    "assert base_dir.exists()\n",
    "raw_data_dir = base_dir / \"data-spm\"\n",
    "assert raw_data_dir.exists()\n",
    "\n",
    "files = list(raw_data_dir.glob(\"*.spm\"))\n",
    "print(f\"found {len(files)} files\")\n",
    "\n",
    "loadscans = LoadScans(img_paths=files, channel=\"Height\")\n",
    "loadscans.get_data()\n",
    "img_dict = loadscans.img_dict\n",
    "clear_output()\n",
    "print(f\"loaded {len(img_dict)} images\")"
   ]
  },
  {
   "cell_type": "code",
   "execution_count": null,
   "metadata": {},
   "outputs": [],
   "source": [
    "# flatten images\n",
    "for raw_image_filename, raw_image_data in img_dict.items():\n",
    "    raw_image = raw_image_data[\"image_original\"]\n",
    "    p2nm = raw_image_data[\"pixel_to_nm_scaling\"]\n",
    "\n",
    "    filters = Filters(\n",
    "        image=raw_image,\n",
    "        filename=raw_image_filename,\n",
    "        pixel_to_nm_scaling=p2nm,\n",
    "        row_alignment_quantile=0.5,\n",
    "        threshold_method=\"absolute\",\n",
    "        otsu_threshold_multiplier=None,\n",
    "        threshold_std_dev=None,\n",
    "        threshold_absolute={\n",
    "            \"above\": 1.0,\n",
    "            \"below\": -1.0,\n",
    "        },\n",
    "        gaussian_size=1.0,\n",
    "        gaussian_mode=\"nearest\",\n",
    "        remove_scars={\n",
    "            \"run\": False,\n",
    "        },\n",
    "    )\n",
    "    filters.filter_image()\n",
    "\n",
    "    flattened_image = filters.images[\"gaussian_filtered\"]\n",
    "    img_dict[raw_image_filename][\"image_flattened\"] = flattened_image"
   ]
  },
  {
   "cell_type": "code",
   "execution_count": null,
   "metadata": {},
   "outputs": [],
   "source": [
    "for image_filename, image_data in img_dict.items():\n",
    "    print(image_filename)\n",
    "    flattened_image = image_data[\"image_flattened\"]\n",
    "    p2nm = image_data[\"pixel_to_nm_scaling\"]\n",
    "\n",
    "    fig, ax = plt.subplots()\n",
    "    zrange = [-2, 4]\n",
    "    ax.imshow(flattened_image, cmap=cmap, clim=zrange)\n",
    "    ax.set_title(image_filename)\n",
    "    plt.show()\n",
    "clear_output()"
   ]
  },
  {
   "cell_type": "code",
   "execution_count": null,
   "metadata": {},
   "outputs": [],
   "source": [
    "crop_dir = base_dir / \"cropped_images\"\n",
    "crop_dir.mkdir(exist_ok=True)\n",
    "\n",
    "# create list of images\n",
    "images = []\n",
    "for image_filename, image_data in img_dict.items():\n",
    "    flattened_image = image_data[\"image_flattened\"]\n",
    "    p2nm = image_data[\"pixel_to_nm_scaling\"]\n",
    "    images.append(flattened_image)\n",
    "\n",
    "interactive_crop_files(images=images, crop_output_dir=crop_dir)"
   ]
  }
 ],
 "metadata": {
  "kernelspec": {
   "display_name": "segmentation-rna",
   "language": "python",
   "name": "python3"
  },
  "language_info": {
   "codemirror_mode": {
    "name": "ipython",
    "version": 3
   },
   "file_extension": ".py",
   "mimetype": "text/x-python",
   "name": "python",
   "nbconvert_exporter": "python",
   "pygments_lexer": "ipython3",
   "version": "3.11.9"
  }
 },
 "nbformat": 4,
 "nbformat_minor": 2
}
