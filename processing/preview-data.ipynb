{
 "cells": [
  {
   "cell_type": "code",
   "execution_count": null,
   "id": "85e674c2",
   "metadata": {},
   "outputs": [],
   "source": [
    "from pathlib import Path\n",
    "import re\n",
    "\n",
    "import numpy as np\n",
    "import matplotlib.pyplot as plt\n"
   ]
  },
  {
   "cell_type": "code",
   "execution_count": null,
   "id": "766c00a9",
   "metadata": {},
   "outputs": [],
   "source": [
    "base_dir = Path(\"../\")\n",
    "data_dir = base_dir / \"data\" / \"all_data\"\n",
    "\n",
    "images = list(data_dir.glob(\"image_*.npy\"))\n",
    "masks = list(data_dir.glob(\"mask_*.npy\"))\n",
    "\n",
    "# sort by the number in the filename\n",
    "images.sort(key=lambda x: int(x.stem.split(\"_\")[1]))\n",
    "masks.sort(key=lambda x: int(x.stem.split(\"_\")[1]))\n",
    "# check that the images and masks are in the same order\n",
    "for i, (img, mask) in enumerate(zip(images, masks)):\n",
    "    img_num = int(re.search(r\"image_(\\d+)\", img.stem).group(1))\n",
    "    mask_num = int(re.search(r\"mask_(\\d+)\", mask.stem).group(1))\n",
    "    assert img_num == mask_num, f\"Image and mask numbers do not match: {img_num} != {mask_num}\"\n",
    "\n",
    "# print image mask pairs\n",
    "for img, mask in zip(images, masks):\n",
    "    img_data = np.load(img)\n",
    "    mask_data = np.load(mask)\n",
    "\n",
    "    print(f\"mask unique values: {np.unique(mask_data)} dtype: {mask_data.dtype}\")\n",
    "\n",
    "    # check that the image and mask have the same shape\n",
    "    assert img_data.shape == mask_data.shape, f\"Image and mask shapes do not match: {img_data.shape} != {mask_data.shape}\"\n",
    "\n",
    "    # plot the image and mask\n",
    "    fig, ax = plt.subplots(1, 2, figsize=(10, 5))\n",
    "    ax[0].imshow(img_data)\n",
    "    ax[0].set_title(img.stem)\n",
    "    ax[1].imshow(mask_data)\n",
    "    ax[1].set_title(mask.stem)\n",
    "    plt.show()"
   ]
  }
 ],
 "metadata": {
  "kernelspec": {
   "display_name": "unet",
   "language": "python",
   "name": "python3"
  },
  "language_info": {
   "codemirror_mode": {
    "name": "ipython",
    "version": 3
   },
   "file_extension": ".py",
   "mimetype": "text/x-python",
   "name": "python",
   "nbconvert_exporter": "python",
   "pygments_lexer": "ipython3",
   "version": "3.11.8"
  }
 },
 "nbformat": 4,
 "nbformat_minor": 5
}
